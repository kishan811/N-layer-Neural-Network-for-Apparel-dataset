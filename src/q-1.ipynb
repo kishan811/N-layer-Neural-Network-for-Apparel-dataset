{
 "cells": [
  {
   "cell_type": "code",
   "execution_count": 34,
   "metadata": {},
   "outputs": [],
   "source": [
    "import numpy as np \n",
    "import pandas as pd\n",
    "import random\n",
    "from sklearn.model_selection import train_test_split"
   ]
  },
  {
   "cell_type": "code",
   "execution_count": 35,
   "metadata": {},
   "outputs": [],
   "source": [
    "df = pd.read_csv('Apparel/apparel-trainval.csv')\n",
    "label=df['label']\n",
    "df.head()\n",
    "err_list=[]\n",
    "# np.unique(label)"
   ]
  },
  {
   "cell_type": "code",
   "execution_count": 36,
   "metadata": {},
   "outputs": [],
   "source": [
    "# train_df1=df[0:48000]\n",
    "# validate_df1=df[48000:60000]\n",
    "# train_label=train_df1['label']\n",
    "# validate_label=validate_df1['label']\n",
    "# train_df1=train_df1.drop('label',axis=1)\n",
    "# validate_df1=validate_df1.drop('label',axis=1)\n",
    "# feature_set=train_df1\n",
    "# instances = feature_set.shape[0]  \n",
    "# attributes = feature_set.shape[1] \n",
    "# validate_instances=validate_df1.shape[0]\n",
    "# feature_set.shape\n",
    "# validate_instances\n",
    "# one_hot_labels = np.zeros((len(df), 10))\n",
    "# for i in range(len(df)):  \n",
    "#     one_hot_labels[i, label[i]] = 1\n",
    "# one_hot_labels.shape\n",
    "# one_hot_train=one_hot_labels[0:48000]\n",
    "# one_hot_validate=one_hot_labels[48000:60000]"
   ]
  },
  {
   "cell_type": "code",
   "execution_count": 37,
   "metadata": {},
   "outputs": [],
   "source": [
    "train1,test1=train_test_split(df,test_size=0.2)"
   ]
  },
  {
   "cell_type": "code",
   "execution_count": 38,
   "metadata": {},
   "outputs": [],
   "source": [
    "# train1\n",
    "train_label=train1['label']\n",
    "test_label=test1['label']\n",
    "train1=train1.drop('label',axis=1)\n",
    "test1=test1.drop('label',axis=1)"
   ]
  },
  {
   "cell_type": "code",
   "execution_count": 39,
   "metadata": {},
   "outputs": [
    {
     "data": {
      "text/plain": [
       "25509    4\n",
       "35020    7\n",
       "51625    1\n",
       "11109    8\n",
       "45816    2\n",
       "Name: label, dtype: int64"
      ]
     },
     "execution_count": 39,
     "metadata": {},
     "output_type": "execute_result"
    }
   ],
   "source": [
    "test_label.head()"
   ]
  },
  {
   "cell_type": "code",
   "execution_count": 40,
   "metadata": {},
   "outputs": [
    {
     "data": {
      "text/plain": [
       "(100, 784)"
      ]
     },
     "execution_count": 40,
     "metadata": {},
     "output_type": "execute_result"
    }
   ],
   "source": [
    "ds=train1.head(100)\n",
    "ds.shape"
   ]
  },
  {
   "cell_type": "code",
   "execution_count": 41,
   "metadata": {},
   "outputs": [
    {
     "data": {
      "text/plain": [
       "(1000, 784)"
      ]
     },
     "execution_count": 41,
     "metadata": {},
     "output_type": "execute_result"
    }
   ],
   "source": [
    "ds=train1.head(1000)\n",
    "instances = ds.shape[0]  \n",
    "attributes = ds.shape[1] \n",
    "samples=test1.shape[0]\n",
    "samples\n",
    "ds.shape"
   ]
  },
  {
   "cell_type": "code",
   "execution_count": 42,
   "metadata": {},
   "outputs": [],
   "source": [
    "# one_hot_labels = np.zeros((1,10))\n",
    "one_hot_labels=[]\n",
    "for i in train_label:  \n",
    "    labels = np.zeros((1,10))\n",
    "    labels[0][i]=1\n",
    "    one_hot_labels.append(labels)\n",
    "#     one_hot_labels[i, train_label[i]] = 1 \n",
    "# print(one_hot_labels)\n",
    "one_hot_labels=np.array(one_hot_labels).squeeze()"
   ]
  },
  {
   "cell_type": "code",
   "execution_count": 43,
   "metadata": {},
   "outputs": [
    {
     "data": {
      "text/plain": [
       "array([[1., 0., 0., ..., 0., 0., 0.],\n",
       "       [0., 1., 0., ..., 0., 0., 0.],\n",
       "       [0., 0., 0., ..., 0., 0., 0.],\n",
       "       ...,\n",
       "       [0., 0., 0., ..., 0., 0., 0.],\n",
       "       [1., 0., 0., ..., 0., 0., 0.],\n",
       "       [0., 0., 0., ..., 0., 0., 0.]])"
      ]
     },
     "execution_count": 43,
     "metadata": {},
     "output_type": "execute_result"
    }
   ],
   "source": [
    "one_hot_labels"
   ]
  },
  {
   "cell_type": "code",
   "execution_count": 44,
   "metadata": {},
   "outputs": [],
   "source": [
    "one_hot_tests=[]\n",
    "for i in test_label:  \n",
    "    tlabels = np.zeros((1,10))\n",
    "    tlabels[0][i]=1\n",
    "    one_hot_tests.append(tlabels)\n",
    "#     one_hot_labels[i, train_label[i]] = 1 \n",
    "one_hot_tests=np.array(one_hot_tests).squeeze()"
   ]
  },
  {
   "cell_type": "code",
   "execution_count": 45,
   "metadata": {},
   "outputs": [
    {
     "data": {
      "text/plain": [
       "array([0., 1., 0., 0., 0., 0., 0., 0., 0., 0.])"
      ]
     },
     "execution_count": 45,
     "metadata": {},
     "output_type": "execute_result"
    }
   ],
   "source": [
    "one_hot_tests[2]"
   ]
  },
  {
   "cell_type": "code",
   "execution_count": 54,
   "metadata": {},
   "outputs": [],
   "source": [
    "class layer:\n",
    "    def __init__(self, NodesInLayer, ListOfNodeCounts, Activation_function):\n",
    "        self.NodesInLayer = NodesInLayer\n",
    "        self.Activation_function = Activation_function\n",
    "        self.activations = np.zeros([NodesInLayer,1])\n",
    "        if ListOfNodeCounts != 0:\n",
    "            self.Layerwise_weights = np.random.normal(0, 0.001, size=(NodesInLayer, ListOfNodeCounts))\n",
    "            self.Layerwise_bias = np.random.normal(0, 0.001, size=(1, ListOfNodeCounts))\n",
    "        else:\n",
    "            self.Layerwise_weights = None\n",
    "            self.Layerwise_bias = None"
   ]
  },
  {
   "cell_type": "code",
   "execution_count": 55,
   "metadata": {},
   "outputs": [],
   "source": [
    "    def relu(x):\n",
    "        x[x < 0] = 0\n",
    "        return x\n",
    "    \n",
    "    def RELU_derivative(x):\n",
    "        x[x<=0] = 0\n",
    "        x[x>0] = 1\n",
    "        return x\n",
    "    \n",
    "    def sigmoid(x):  \n",
    "        return 1/(1+np.exp(-x))\n",
    "\n",
    "    def sigmoid_derivative(x):  \n",
    "        return sigmoid(x) *(1-sigmoid (x))\n",
    "    \n",
    "    def tanh(x):\n",
    "        return np.tanh(x)\n",
    "    \n",
    "    def tanh_derivative(x):\n",
    "        return 1.0 - np.tanh(x)**2\n",
    "    \n",
    "    def softmax(A):  \n",
    "        expA = np.exp(A)\n",
    "        return expA / expA.sum(axis=1, keepdims=True)"
   ]
  },
  {
   "cell_type": "code",
   "execution_count": 56,
   "metadata": {},
   "outputs": [],
   "source": [
    "class Neural_Net:\n",
    "    def __init__(self, Layer_count, Node_count, Activation_function, Error_calc_function):\n",
    "        self.Layer_count = Layer_count\n",
    "        self.Node_count = Node_count\n",
    "        self.layers = []\n",
    "        self.error = 0\n",
    "        self.lr = 0.0001\n",
    "        self.Error_calc_function = Error_calc_function\n",
    "\n",
    "        if not Layer_count == len(Node_count):\n",
    "            raise ValueError(\"Number of layers must match number node counts...!\")\n",
    "\n",
    "        for i in range(Layer_count):\n",
    "            if i != Layer_count-1:\n",
    "                layer_i = layer(Node_count[i], Node_count[i+1], Activation_function[i])\n",
    "            else:\n",
    "                layer_i = layer(Node_count[i], 0, Activation_function[i])\n",
    "            self.layers.append(layer_i) \n",
    "    \n",
    "    def calculate_error(self,one_hot_data):\n",
    "        if self.Error_calc_function == \"mean_squared\":\n",
    "            self.error += np.mean(np.divide(np.square(np.subtract(one_hot_data, self.layers[self.Layer_count-1].activations)), 2))\n",
    "        elif self.Error_calc_function == \"cross_entropy\":\n",
    "            self.error = np.sum(-one_hot_data * np.log(self.layers[-1].activations))\n",
    "    \n",
    "            \n",
    "    def forward_propagation(self, testdata):\n",
    "        self.layers[0].activations = testdata\n",
    "        for i in range(self.Layer_count-1):\n",
    "            temp = np.add(np.dot(self.layers[i].activations, self.layers[i].Layerwise_weights), self.layers[i].Layerwise_bias)\n",
    "            if self.layers[i+1].Activation_function == \"sigmoid\":\n",
    "                self.layers[i+1].activations = sigmoid(temp)\n",
    "            elif self.layers[i+1].Activation_function == \"softmax\":\n",
    "                self.layers[i+1].activations = softmax(temp)\n",
    "            elif self.layers[i+1].Activation_function == \"relu\":\n",
    "                self.layers[i+1].activations = relu(temp)\n",
    "            elif self.layers[i+1].Activation_function == \"tanh\":\n",
    "                self.layers[i+1].activations = tanh(temp)\n",
    "            else:\n",
    "                self.layers[i+1].activations = temp\n",
    "                \n",
    "        \n",
    "    def backward_propagation(self,one_hot_data):\n",
    "        i = self.Layer_count-1\n",
    "        dA_dZ=0\n",
    "        dError_dZ=self.layers[i].activations-one_hot_data\n",
    "#         print('dError_dZ',dError_dZ)\n",
    "        dZ_dW=self.layers[i-1].activations\n",
    "#         print('dZ_dW',dZ_dW)\n",
    "        dError_dW=np.dot(dZ_dW.T, dError_dZ)\n",
    "#         print('dError_dW',dError_dW)\n",
    "        dE_dB=dError_dZ\n",
    "#         print('dE_dB',dE_dB)\n",
    "\n",
    "        self.layers[i-1].Layerwise_weights -= self.lr * dError_dW\n",
    "        self.layers[i-1].Layerwise_bias -= self.lr * dE_dB.sum(axis=0)\n",
    "        for i in range(i-1,0,-1):\n",
    "            dZ_dA=self.layers[i].Layerwise_weights\n",
    "#             print('dZ_dA',dZ_dA)\n",
    "            dE_dA=np.dot(dError_dZ,dZ_dA.T)\n",
    "#             print('dE_dA',dE_dA)\n",
    "            temp = np.add(np.dot(self.layers[i-1].activations, self.layers[i-1].Layerwise_weights), self.layers[i-1].Layerwise_bias)\n",
    "            if self.layers[i].Activation_function == \"sigmoid\":\n",
    "                dA_dZ=sigmoid_derivative(temp)\n",
    "#                 print('dA_dZ',dA_dZ)\n",
    "            if self.layers[i].Activation_function == \"relu\":\n",
    "                dA_dZ=RELU_derivative(temp)\n",
    "#                 print('dA_dZ',dA_dZ)\n",
    "            if self.layers[i].Activation_function == \"tanh\":\n",
    "                dA_dZ=tanh_derivative(temp)\n",
    "#                 print('dA_dZ',dA_dZ)\n",
    "\n",
    "            dZ_dW=self.layers[i-1].activations\n",
    "#             print('dZ_dW',dZ_dW)\n",
    "            dError_dW=np.dot(dZ_dW.T,(dA_dZ*dE_dA))\n",
    "#             print('dError_dW',dError_dW)\n",
    "            dE_dB = dE_dA*dA_dZ\n",
    "#             print('dE_dB',dE_dB)\n",
    "            dError_dZ=dE_dB\n",
    "#             print('dError_dZ',dError_dZ)\n",
    "    \n",
    "            self.layers[i-1].Layerwise_weights -= self.lr * dError_dW\n",
    "            self.layers[i-1].Layerwise_bias -= self.lr * dE_dB.sum(axis=0)\n",
    "                  \n",
    "    def train_Neural_net(self, batch_size, testdata, labels, num_epochs, lr):\n",
    "            self.batch_size = batch_size\n",
    "            self.lr = lr\n",
    "            for j in range(num_epochs):\n",
    "                i = 0\n",
    "                while i+batch_size != len(testdata): \n",
    "                    self.error = 0\n",
    "                    self.forward_propagation(testdata[i:i+batch_size])\n",
    "                    self.calculate_error(labels[i:i+batch_size])\n",
    "                    self.backward_propagation(labels[i:i+batch_size])\n",
    "                    i += batch_size"
   ]
  },
  {
   "cell_type": "code",
   "execution_count": 57,
   "metadata": {},
   "outputs": [],
   "source": [
    "neural_network=Neural_Net(3, [784,150,10], [None,\"sigmoid\",\"softmax\"],\"cross_entropy\")"
   ]
  },
  {
   "cell_type": "code",
   "execution_count": 58,
   "metadata": {},
   "outputs": [
    {
     "data": {
      "text/plain": [
       "(1000, 784)"
      ]
     },
     "execution_count": 58,
     "metadata": {},
     "output_type": "execute_result"
    }
   ],
   "source": [
    "ds.shape"
   ]
  },
  {
   "cell_type": "code",
   "execution_count": 59,
   "metadata": {},
   "outputs": [],
   "source": [
    "neural_network.train_Neural_net(100,ds,one_hot_labels,1000,0.0001)"
   ]
  },
  {
   "cell_type": "code",
   "execution_count": 60,
   "metadata": {},
   "outputs": [],
   "source": [
    "# one_hot_labels[0:5]"
   ]
  },
  {
   "cell_type": "markdown",
   "metadata": {},
   "source": [
    "### Saving weights and biases in Numpy files:-"
   ]
  },
  {
   "cell_type": "code",
   "execution_count": 61,
   "metadata": {},
   "outputs": [],
   "source": [
    "for i in range(neural_network.Layer_count):\n",
    "    np.save('weight'+str(i)+'.npy',neural_network.layers[i].Layerwise_weights)\n",
    "    np.save('bias'+str(i)+'.npy',neural_network.layers[i].Layerwise_bias)"
   ]
  },
  {
   "cell_type": "markdown",
   "metadata": {},
   "source": [
    "### Loading saved weights and biases from Numpy files:-"
   ]
  },
  {
   "cell_type": "code",
   "execution_count": 62,
   "metadata": {},
   "outputs": [],
   "source": [
    "for i in range(neural_network.Layer_count):\n",
    "    neural_network.layers[i].Layerwise_weights = np.load('weight'+str(i)+'.npy')\n",
    "    neural_network.layers[i].Layerwise_bias = np.load('bias'+str(i)+'.npy')"
   ]
  },
  {
   "cell_type": "code",
   "execution_count": 63,
   "metadata": {},
   "outputs": [
    {
     "data": {
      "text/plain": [
       "(150, 10)"
      ]
     },
     "execution_count": 63,
     "metadata": {},
     "output_type": "execute_result"
    }
   ],
   "source": [
    "neural_network.layers[1].Layerwise_weights.shape"
   ]
  },
  {
   "cell_type": "code",
   "execution_count": 64,
   "metadata": {},
   "outputs": [],
   "source": [
    "neural_network.forward_propagation(test1)"
   ]
  },
  {
   "cell_type": "code",
   "execution_count": 65,
   "metadata": {},
   "outputs": [
    {
     "name": "stdout",
     "output_type": "stream",
     "text": [
      "Accuracy:  80.09166666666667\n"
     ]
    }
   ],
   "source": [
    "count=0\n",
    "err_list=[]\n",
    "for i in range(samples):  \n",
    "    actual=np.argmax(one_hot_tests[i])\n",
    "    predicted=np.argmax(neural_network.layers[-1].activations[i])\n",
    "    if(actual==predicted):\n",
    "        count+=1\n",
    "accu=(float(count)/samples)*100\n",
    "print('Accuracy: ',accu)"
   ]
  },
  {
   "cell_type": "markdown",
   "metadata": {},
   "source": [
    "### Accuracy on training complete dataset: 85\n",
    "#### Accuracy with 'sigmoid' Activation function: 79.46 (Training 1000 data samples on 1000 iterations)\n",
    "#### Accuracy with 'tanh' Activation function: 69.83\n",
    "#### Accuracy with 'ReLU' Activation function: 9.91\n",
    "<br>\n",
    "\n",
    "### Observations:-\n",
    "<ol>\n",
    "    <li> Checked My implementation of neural network on different number of hidden layers using various activation functions on variable data sizes for training and by changing learning rate. </li>\n",
    "    <li> <b>For 3 layers i.e. only 1 hidden layer NN is working best with 784 nodes in Input, 150 nodes in Hidden, 10 nodes in Output layer </b>with more than 80% accuracy at 0.0001 learning rate and 1000 epochs.<br> With increasing epochs (from 1000 to 10,0000) accuracy further improves upto <b>87%</b>. <br> But, decreasing learning rate to 0.001 decreases the accuracy.</li>\n",
    "    <li> For 4 layers with 784, 100, 50, 10 nodes, accuracy is about 71 %.</li>\n",
    "    <li> For 5 layers with 784, 150, 50, 25, 10 nodes, accuracy is about 42 % i.e. accuracy goes down, for 1000 epochs with 1000 training data set.</li>\n",
    "    <li> On 'Tanh', accuracy is about 70% on 0.0001 LR and 1000 epochs on 1000 training data. </li>\n",
    "    <li> On 'ReLU', It is giving overflow error and accuracy is very low. </li>"
   ]
  },
  {
   "cell_type": "code",
   "execution_count": 103,
   "metadata": {},
   "outputs": [],
   "source": [
    "cou=0\n",
    "error_values=[]\n",
    "epoch_counts=[]\n",
    "for i in range(5,220,20):\n",
    "    epoch_counts.append(i)\n",
    "    N_Net=Neural_Net(3, [784,150,10], [None,\"sigmoid\",\"softmax\"],\"cross_entropy\")\n",
    "    N_Net.train_Neural_net(100,ds,one_hot_labels,i,0.0001)\n",
    "    N_Net.forward_propagation(test1)\n",
    "    cou=0\n",
    "    for i in range(samples):  \n",
    "        actual_label=np.argmax(one_hot_tests[i])\n",
    "        tested_label=np.argmax(N_Net.layers[-1].activations[i])\n",
    "        if(actual_label==tested_label):\n",
    "            cou+=1\n",
    "    error_values.append((1-float(cou)/samples)*100)"
   ]
  },
  {
   "cell_type": "code",
   "execution_count": 93,
   "metadata": {},
   "outputs": [],
   "source": [
    "# error"
   ]
  },
  {
   "cell_type": "code",
   "execution_count": 94,
   "metadata": {},
   "outputs": [],
   "source": [
    "# e=[]\n",
    "# epo=[]\n",
    "# for i in range(1,10002,500):\n",
    "#     epo.append(i)\n",
    "#     N_Net.train_Neural_net(100,ds,one_hot_labels,i,0.0001)\n",
    "#     N_Net.forward_propagation(test1)\n",
    "#     count=0\n",
    "#     for i in range(12000):  \n",
    "#         actual=np.argmax(one_hot_tests[i])\n",
    "#         predicted=np.argmax(nn.layers[-1].activations[i])\n",
    "#         if(actual==predicted):\n",
    "#             count+=1\n",
    "#     e.append(count/120)\n",
    "#     print(count)"
   ]
  },
  {
   "cell_type": "markdown",
   "metadata": {},
   "source": [
    "## Part 3: Plot for Number of Epoch (Iterations) in Neural Network v/s Error :-"
   ]
  },
  {
   "cell_type": "code",
   "execution_count": 91,
   "metadata": {},
   "outputs": [
    {
     "data": {
      "image/png": "[encoded data removed]",
      "text/plain": [
       "<Figure size 432x288 with 1 Axes>"
      ]
     },
     "metadata": {
      "needs_background": "light"
     },
     "output_type": "display_data"
    }
   ],
   "source": [
    "import matplotlib.pyplot as plt\n",
    "plt.plot(epoch_counts,error_values)\n",
    "# plt.figure(figsize=(30,20))\n",
    "plt.xlabel('Epoch Count ')\n",
    "plt.ylabel('Error Rate')\n",
    "plt.title('Epoch Count v/s Error Rate')\n",
    "plt.grid(True)\n",
    "plt.show()"
   ]
  },
  {
   "cell_type": "markdown",
   "metadata": {},
   "source": [
    "## Part 4: Plot for Number of Layers in Neural Network v/s Error :-"
   ]
  },
  {
   "cell_type": "code",
   "execution_count": 168,
   "metadata": {},
   "outputs": [
    {
     "data": {
      "image/png": "[encoded data removed]",
      "text/plain": [
       "<Figure size 432x288 with 1 Axes>"
      ]
     },
     "metadata": {
      "needs_background": "light"
     },
     "output_type": "display_data"
    }
   ],
   "source": [
    "plt.plot([3,4,5,6,7], [19.95,25.97,58.32,82.01,89.84])\n",
    "plt.xlabel('Layers In NN')\n",
    "plt.ylabel('Error Rate')\n",
    "plt.title('No. of Layers In Neural Net v/s Error Rate')\n",
    "plt.grid(True)\n",
    "plt.show()"
   ]
  },
  {
   "cell_type": "markdown",
   "metadata": {},
   "source": [
    "### Part 5: Plot for Number of Layers in Neural Network v/s Prediction Loss :-"
   ]
  },
  {
   "cell_type": "code",
   "execution_count": 86,
   "metadata": {},
   "outputs": [
    {
     "data": {
      "image/png": "[encoded data removed]",
      "text/plain": [
       "<Figure size 432x288 with 1 Axes>"
      ]
     },
     "metadata": {
      "needs_background": "light"
     },
     "output_type": "display_data"
    }
   ],
   "source": [
    "import matplotlib.pyplot as plt\n",
    "plt.plot([3,4,5,6,7], [117.94, 225.03, 232.22, 800.58, 2540.22])\n",
    "plt.xlabel('Layers In NN')\n",
    "plt.ylabel('Prediction Loss')\n",
    "plt.title('No. of Layers In Neural Net v/s Prediction Loss')\n",
    "plt.grid(True)\n",
    "plt.show()"
   ]
  },
  {
   "cell_type": "markdown",
   "metadata": {},
   "source": [
    "### Part 6: Comparison of sigmoid  v/s tanh v/s ReLU Accuracy:-"
   ]
  },
  {
   "cell_type": "code",
   "execution_count": 101,
   "metadata": {},
   "outputs": [
    {
     "data": {
      "image/png": "[encoded data removed]",
      "text/plain": [
       "<Figure size 432x288 with 1 Axes>"
      ]
     },
     "metadata": {
      "needs_background": "light"
     },
     "output_type": "display_data"
    }
   ],
   "source": [
    "plt.bar(['Sigmoid','Tanh','ReLU'], [80.05,69.83,9.91], color='skyblue')\n",
    "plt.xlabel('Activation Functions', fontsize=12)\n",
    "plt.ylabel('Accuracy', fontsize=12)\n",
    "# plt.xticks(rotation=45)\n",
    "plt.title('Comparing Accuracies of different activation functions')\n",
    "plt.show()"
   ]
  },
  {
   "cell_type": "markdown",
   "metadata": {},
   "source": [
    "### Part 7: Prediction on test file:-"
   ]
  },
  {
   "cell_type": "code",
   "execution_count": 79,
   "metadata": {},
   "outputs": [],
   "source": [
    "testing_file = pd.read_csv('Apparel/apparel-test.csv')\n",
    "neural_network.forward_propagation(testing_file)\n",
    "li=len(testing_file)\n",
    "# print(li)\n",
    "prediction_list=np.zeros([li])\n",
    "for i in range(li):\n",
    "    prediction_list[i]=np.argmax(neural_network.layers[-1].activations[i])\n",
    "# np.unique(prediction_list)\n",
    "# [int(i) for i in prediction_list]"
   ]
  },
  {
   "cell_type": "code",
   "execution_count": 80,
   "metadata": {},
   "outputs": [],
   "source": [
    "np.savetxt(\"predicted.csv\", prediction_list, delimiter=\",\",header='predicted_values')"
   ]
  },
  {
   "cell_type": "code",
   "execution_count": 81,
   "metadata": {},
   "outputs": [],
   "source": [
    "df1=pd.read_csv(\"predicted.csv\")"
   ]
  },
  {
   "cell_type": "code",
   "execution_count": 102,
   "metadata": {},
   "outputs": [
    {
     "data": {
      "text/html": [
       "<div>\n",
       "<style scoped>\n",
       "    .dataframe tbody tr th:only-of-type {\n",
       "        vertical-align: middle;\n",
       "    }\n",
       "\n",
       "    .dataframe tbody tr th {\n",
       "        vertical-align: top;\n",
       "    }\n",
       "\n",
       "    .dataframe thead th {\n",
       "        text-align: right;\n",
       "    }\n",
       "</style>\n",
       "<table border=\"1\" class=\"dataframe\">\n",
       "  <thead>\n",
       "    <tr style=\"text-align: right;\">\n",
       "      <th></th>\n",
       "      <th># predicted_values</th>\n",
       "    </tr>\n",
       "  </thead>\n",
       "  <tbody>\n",
       "    <tr>\n",
       "      <th>0</th>\n",
       "      <td>0.0</td>\n",
       "    </tr>\n",
       "    <tr>\n",
       "      <th>1</th>\n",
       "      <td>1.0</td>\n",
       "    </tr>\n",
       "    <tr>\n",
       "      <th>2</th>\n",
       "      <td>2.0</td>\n",
       "    </tr>\n",
       "    <tr>\n",
       "      <th>3</th>\n",
       "      <td>0.0</td>\n",
       "    </tr>\n",
       "    <tr>\n",
       "      <th>4</th>\n",
       "      <td>3.0</td>\n",
       "    </tr>\n",
       "  </tbody>\n",
       "</table>\n",
       "</div>"
      ],
      "text/plain": [
       "   # predicted_values\n",
       "0                 0.0\n",
       "1                 1.0\n",
       "2                 2.0\n",
       "3                 0.0\n",
       "4                 3.0"
      ]
     },
     "execution_count": 102,
     "metadata": {},
     "output_type": "execute_result"
    }
   ],
   "source": [
    "df1.head()"
   ]
  },
  {
   "cell_type": "code",
   "execution_count": null,
   "metadata": {},
   "outputs": [],
   "source": []
  }
 ],
 "metadata": {
  "kernelspec": {
   "display_name": "Python 2",
   "language": "python",
   "name": "python2"
  },
  "language_info": {
   "codemirror_mode": {
    "name": "ipython",
    "version": 3
   },
   "file_extension": ".py",
   "mimetype": "text/x-python",
   "name": "python",
   "nbconvert_exporter": "python",
   "pygments_lexer": "ipython3",
   "version": "3.6.7"
  }
 },
 "nbformat": 4,
 "nbformat_minor": 2
}
